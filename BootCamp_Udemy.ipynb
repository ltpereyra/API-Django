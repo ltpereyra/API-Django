{
  "nbformat": 4,
  "nbformat_minor": 0,
  "metadata": {
    "colab": {
      "name": "BootCamp - Udemy.ipynb",
      "provenance": [],
      "collapsed_sections": [
        "f1SxHfndhomz",
        "vxq7zvSQjwG8",
        "Y3BncjuB4zqE",
        "SOWeZiCo94Im",
        "cqXqq2KEBh0a",
        "CJrhQeUAJEK0",
        "UT3uNyfiN4lc",
        "-zFnoYuQRcaU",
        "r6UrMjkxbsbu",
        "VaKpRfopeMsW",
        "hcaekrlLfR43",
        "uhWXe4ObhjOs",
        "TZ4qE3MEi3Kf",
        "hNVoxdp-lz51"
      ],
      "include_colab_link": true
    },
    "kernelspec": {
      "name": "python3",
      "display_name": "Python 3"
    },
    "language_info": {
      "name": "python"
    }
  },
  "cells": [
    {
      "cell_type": "markdown",
      "metadata": {
        "id": "view-in-github",
        "colab_type": "text"
      },
      "source": [
        "<a href=\"https://colab.research.google.com/github/ltpereyra/API-Django/blob/master/BootCamp_Udemy.ipynb\" target=\"_parent\"><img src=\"https://colab.research.google.com/assets/colab-badge.svg\" alt=\"Open In Colab\"/></a>"
      ]
    },
    {
      "cell_type": "code",
      "metadata": {
        "colab": {
          "base_uri": "https://localhost:8080/"
        },
        "id": "YXR4-A1a5jz7",
        "outputId": "cbffd7d7-aea8-43ce-feee-9909e6abf55d"
      },
      "source": [
        "from google.colab import drive\n",
        "drive.mount('/content/drive')"
      ],
      "execution_count": 75,
      "outputs": [
        {
          "output_type": "stream",
          "text": [
            "Mounted at /content/drive\n"
          ],
          "name": "stdout"
        }
      ]
    },
    {
      "cell_type": "markdown",
      "metadata": {
        "id": "f1SxHfndhomz"
      },
      "source": [
        "# Exercise 1\n",
        "\n",
        "\n"
      ]
    },
    {
      "cell_type": "markdown",
      "metadata": {
        "id": "MyvIUtRmcC_x"
      },
      "source": [
        "**Inspecting a Array NumPy**\n",
        "\n",
        "A numpy object has attributes and methods inherited from the class (numpy.ndarray). Creat an array and inspect the following attributes:\n",
        "\n",
        "Shape: A tuple containing a number of elements (size) in each dimension of the array;\n",
        "\n",
        "Size: Total number of elements in the array;\n",
        "\n",
        "ndim: Number of dimensions (axes);\n",
        "\n",
        "nbytes: Number of bytes used to store the data;\n",
        "\n",
        "dtype: The data type of the elements in the array;\n"
      ]
    },
    {
      "cell_type": "code",
      "metadata": {
        "colab": {
          "base_uri": "https://localhost:8080/"
        },
        "id": "KoxvrTp8hmvp",
        "outputId": "e04db874-6a1c-4142-bc69-7c4f5a20efb3"
      },
      "source": [
        "import numpy as np\n",
        "\n",
        "array = np.array([[1,2,3,4],[5,6,7,8]])\n",
        "print(\"Shape: \", array.shape)\n",
        "print(\"Size: \", array.size)\n",
        "print(\"ndim: \", array.ndim)\n",
        "print(\"nbytes: \", array.nbytes)\n",
        "print(\"dtype: \", array.dtype)"
      ],
      "execution_count": null,
      "outputs": [
        {
          "output_type": "stream",
          "text": [
            "Shape:  (2, 4)\n",
            "Size:  8\n",
            "ndim:  2\n",
            "nbytes:  64\n",
            "dtype:  int64\n"
          ],
          "name": "stdout"
        }
      ]
    },
    {
      "cell_type": "markdown",
      "metadata": {
        "id": "vxq7zvSQjwG8"
      },
      "source": [
        "# Exercise 2\n"
      ]
    },
    {
      "cell_type": "markdown",
      "metadata": {
        "id": "T0H03zPecWvF"
      },
      "source": [
        "Based on the previous exercise, create a function that can receive an array and shows on the screen its attributes. Check if the insert argument is, indeed, a numpy object. You can also use a built-in type () function to verify the object' class.\n",
        "\n",
        "Expected return:\n",
        "```\n",
        "inspect_array(np.array([1,2,3])) \n",
        " \n",
        "Shape : (3,)\n",
        "Size:  3\n",
        "Ndim:  1\n",
        "Nbytes:  24\n",
        "Dtype:  int64\n",
        "Type:  <class 'numpy.ndarray'>\n",
        "array([1, 2, 3])\n",
        "\n",
        "\n",
        "inspect_array([1,2,3]) \n",
        "'The inserted object is not a NumPy array.'\n",
        "```\n",
        "\n",
        "\n"
      ]
    },
    {
      "cell_type": "code",
      "metadata": {
        "colab": {
          "base_uri": "https://localhost:8080/"
        },
        "id": "988CVDsBjVFm",
        "outputId": "c69b8a37-9b8a-49bb-9687-1ce5f4e69e33"
      },
      "source": [
        "import numpy as np\n",
        "\n",
        "def inspect_array(array):\n",
        "  if isinstance(array,np.ndarray):\n",
        "    print(\"Shape: \", array.shape)\n",
        "    print(\"Size: \", array.size)\n",
        "    print(\"ndim: \", array.ndim)\n",
        "    print(\"nbytes: \", array.nbytes)\n",
        "    print(\"dtype: \", array.dtype)\n",
        "    print(array)\n",
        "  else:\n",
        "    print(\"The inserted object is not a NumPy array.\")\n",
        "\n",
        "array = np.array([[1,2,3,4],[5,6,7,8]])\n",
        "inspect_array(array)\n",
        "\n",
        "notarray = [1,2,3,4]\n",
        "inspect_array(notarray)"
      ],
      "execution_count": null,
      "outputs": [
        {
          "output_type": "stream",
          "text": [
            "Shape:  (2, 4)\n",
            "Size:  8\n",
            "ndim:  2\n",
            "nbytes:  64\n",
            "dtype:  int64\n",
            "[[1 2 3 4]\n",
            " [5 6 7 8]]\n",
            "The inserted object is not a NumPy array.\n"
          ],
          "name": "stdout"
        }
      ]
    },
    {
      "cell_type": "markdown",
      "metadata": {
        "id": "Y3BncjuB4zqE"
      },
      "source": [
        "# Exercise 3\n",
        "\n"
      ]
    },
    {
      "cell_type": "markdown",
      "metadata": {
        "id": "6bou6SQochFx"
      },
      "source": [
        "Use the np.array() function to creat the one-dimensioned arrays listed below:\n",
        "\n",
        "a) Use a list as an argument and obtain:\n",
        "\n",
        "`array([-1,  4,  7,  9])`\n",
        "\n",
        "\n",
        "b) Use the range() function and obtain:\n",
        "\n",
        "`array([ 1,  2,  3,  4,  5,  6,  7,  8,  9, 10])`\n",
        "\n",
        "\n",
        "c) Use a tuple as an argument and obtain:\n",
        "\n",
        "`array([10, 11, 12, 13, 14])`\n",
        "\n",
        "\n",
        "d) Use the range() function and obtain:\n",
        "\n",
        "`array([1990, 1995, 2000, 2005, 2010, 2015, 2020])`\n",
        "\n",
        "\n",
        "e) Use the range() function and obtain:\n",
        "\n",
        "`array([2020, 2010, 2000, 1990, 1980, 1970, 1960, 1950, 1940, 1930, 1920, 1910, 1900])`\n",
        "\n",
        "\n",
        "f) Obtain:\n",
        "\n",
        "`array(100)`"
      ]
    },
    {
      "cell_type": "code",
      "metadata": {
        "colab": {
          "base_uri": "https://localhost:8080/"
        },
        "id": "cYXtTBfL5NfM",
        "outputId": "219c958d-2d21-4d85-dacc-baeec6112bc8"
      },
      "source": [
        "import numpy as np\n",
        "\n",
        "# a)\n",
        "array1 = np.array([-1,4,7,9])\n",
        "\n",
        "# b)\n",
        "array2 = np.array(range(1,11))\n",
        "\n",
        "# c)\n",
        "tuple_ = (10,11,12,13,14)\n",
        "array3 = np.array(tuple_)\n",
        "\n",
        "# d)\n",
        "array4 = np.array(range(1990,2021,5))\n",
        "\n",
        "# e)\n",
        "array5 = np.array(range(2020,1890,-10))\n",
        "\n",
        "# f)\n",
        "array6 = np.array(100)\n",
        "\n",
        "print(array1)\n",
        "print(array2)\n",
        "print(array3)\n",
        "print(array4)\n",
        "print(array5)\n",
        "print(array6)\n",
        "\n",
        "\n",
        "\n"
      ],
      "execution_count": null,
      "outputs": [
        {
          "output_type": "stream",
          "text": [
            "[-1  4  7  9]\n",
            "[ 1  2  3  4  5  6  7  8  9 10]\n",
            "[10 11 12 13 14]\n",
            "[1990 1995 2000 2005 2010 2015 2020]\n",
            "[2020 2010 2000 1990 1980 1970 1960 1950 1940 1930 1920 1910 1900]\n",
            "100\n"
          ],
          "name": "stdout"
        }
      ]
    },
    {
      "cell_type": "markdown",
      "metadata": {
        "id": "SOWeZiCo94Im"
      },
      "source": [
        "# Exercise 4\n",
        "\n"
      ]
    },
    {
      "cell_type": "markdown",
      "metadata": {
        "id": "54JX7pApcmUq"
      },
      "source": [
        "The np.ones() function allows you to create an array filled with the number 1 in all your entries. We can specify as arguments the shape and the kind of dtype of the array. Use this function to create the following arrays:\n",
        "\n",
        "a)\n",
        "```\n",
        "array([1., 1., 1., 1., 1., 1., 1., 1., 1., 1.])\n",
        "```\n",
        "\n",
        "b)\n",
        "```\n",
        "array([[1., 1., 1., 1.],\n",
        "       [1., 1., 1., 1.],\n",
        "       [1., 1., 1., 1.],\n",
        "       [1., 1., 1., 1.]])\n",
        "```\n",
        "\n",
        "c)\n",
        "\n",
        "```\n",
        "array([[1., 1.],\n",
        "       [1., 1.],\n",
        "       [1., 1.]])\n",
        "```\n"
      ]
    },
    {
      "cell_type": "code",
      "metadata": {
        "colab": {
          "base_uri": "https://localhost:8080/"
        },
        "id": "2krafomH95ua",
        "outputId": "2b87a95d-7d72-4ef3-c21a-de26b750020e"
      },
      "source": [
        "import numpy as np\n",
        "\n",
        "array1 = np.ones(10)\n",
        "print(array1,\"\\n\")\n",
        "\n",
        "array2 = np.ones((4,4))\n",
        "print(array2,\"\\n\")\n",
        "\n",
        "array3 = np.ones((3,2))\n",
        "print(array3,\"\\n\")"
      ],
      "execution_count": null,
      "outputs": [
        {
          "output_type": "stream",
          "text": [
            "[1. 1. 1. 1. 1. 1. 1. 1. 1. 1.] \n",
            "\n",
            "[[1. 1. 1. 1.]\n",
            " [1. 1. 1. 1.]\n",
            " [1. 1. 1. 1.]\n",
            " [1. 1. 1. 1.]] \n",
            "\n",
            "[[1. 1.]\n",
            " [1. 1.]\n",
            " [1. 1.]] \n",
            "\n"
          ],
          "name": "stdout"
        }
      ]
    },
    {
      "cell_type": "markdown",
      "metadata": {
        "id": "cqXqq2KEBh0a"
      },
      "source": [
        "# Exercise 5\n"
      ]
    },
    {
      "cell_type": "markdown",
      "metadata": {
        "id": "auu5eB7ncujy"
      },
      "source": [
        "The np.zeros() function allows you to create an array filled with the number 0 in all your entries. We can specify as arguments the shape and the kind of dtype of the array (default is the float). Use this function to create the following arrays:\n",
        "\n",
        "a)\n",
        "```\n",
        "array([0., 0., 0., 0., 0., 0., 0., 0., 0., 0.])\n",
        "```\n",
        "\n",
        "b)\n",
        "```\n",
        "array([[0., 0.],       \n",
        "      [0., 0.]])\n",
        "```\n",
        "\n",
        "c)\n",
        "```\n",
        "array([[0., 0., 0., 0., 0., 0.],\n",
        "       [0., 0., 0., 0., 0., 0.],\n",
        "       [0., 0., 0., 0., 0., 0.],\n",
        "       [0., 0., 0., 0., 0., 0.]])\n",
        "```"
      ]
    },
    {
      "cell_type": "code",
      "metadata": {
        "colab": {
          "base_uri": "https://localhost:8080/"
        },
        "id": "CsgnnI3fc1Fx",
        "outputId": "38821d85-d1d1-4110-dc04-2e9eb4598c1d"
      },
      "source": [
        "import numpy as np\n",
        "\n",
        "# a)\n",
        "array1 = np.zeros(10)\n",
        "print(array1,\"\\n\")\n",
        "\n",
        "# b)\n",
        "array2 = np.zeros((2,2))\n",
        "print(array2,\"\\n\")\n",
        "\n",
        "# c)\n",
        "array3 = np.zeros((4,6))\n",
        "print(array3,\"\\n\")"
      ],
      "execution_count": 76,
      "outputs": [
        {
          "output_type": "stream",
          "text": [
            "[0. 0. 0. 0. 0. 0. 0. 0. 0. 0.] \n",
            "\n",
            "[[0. 0.]\n",
            " [0. 0.]] \n",
            "\n",
            "[[0. 0. 0. 0. 0. 0.]\n",
            " [0. 0. 0. 0. 0. 0.]\n",
            " [0. 0. 0. 0. 0. 0.]\n",
            " [0. 0. 0. 0. 0. 0.]] \n",
            "\n"
          ],
          "name": "stdout"
        }
      ]
    },
    {
      "cell_type": "markdown",
      "metadata": {
        "id": "CJrhQeUAJEK0"
      },
      "source": [
        "# Exercise 6\n"
      ]
    },
    {
      "cell_type": "markdown",
      "metadata": {
        "id": "eHM301eec6lM"
      },
      "source": [
        "Create the following arrays:\n",
        "\n",
        "a)\n",
        "```\n",
        "array([[10],\n",
        "       [15],\n",
        "       [20],\n",
        "       [25],\n",
        "       [30],\n",
        "       [35],\n",
        "       [40],\n",
        "       [45]])\n",
        "```\n",
        "\n",
        "b)\n",
        "```\n",
        "array([-50, -45, -40, -35, -30, -25, -20, -15, -10,  -5])\n",
        "```\n",
        "\n",
        "c)\n",
        "```\n",
        "array([[ 50,  52,  54,  56,  58,  60,  62,  64,  66,  68],\n",
        "       [ 70,  72,  74,  76,  78,  80,  82,  84,  86,  88],\n",
        "       [ 90,  92,  94,  96,  98, 100, 102, 104, 106, 108],\n",
        "       [110, 112, 114, 116, 118, 120, 122, 124, 126, 128],\n",
        "       [130, 132, 134, 136, 138, 140, 142, 144, 146, 148]])\n",
        "```\n",
        "\n",
        "Tip: use np.arange() or np.array(range())."
      ]
    },
    {
      "cell_type": "code",
      "metadata": {
        "colab": {
          "base_uri": "https://localhost:8080/"
        },
        "id": "Wb3J03ckJqM0",
        "outputId": "9c6df40a-78f9-478e-f57c-dc5bae10b6c7"
      },
      "source": [
        "import numpy as np\n",
        "\n",
        "# a)\n",
        "array1 = np.arange(10,46,5).reshape(8,1) ## podria ser .reshape(-1,1)\n",
        "print(array1,\"\\n\")\n",
        "\n",
        "# b)\n",
        "array2 = np.arange(-50,-4,5)\n",
        "print(array2,\"\\n\")\n",
        "\n",
        "# c)\n",
        "array3 = np.arange(50,150,2).reshape(5,10)\n",
        "print(array3,\"\\n\")"
      ],
      "execution_count": null,
      "outputs": [
        {
          "output_type": "stream",
          "text": [
            "[[10]\n",
            " [15]\n",
            " [20]\n",
            " [25]\n",
            " [30]\n",
            " [35]\n",
            " [40]\n",
            " [45]] \n",
            "\n",
            "[-50 -45 -40 -35 -30 -25 -20 -15 -10  -5] \n",
            "\n",
            "[[ 50  52  54  56  58  60  62  64  66  68]\n",
            " [ 70  72  74  76  78  80  82  84  86  88]\n",
            " [ 90  92  94  96  98 100 102 104 106 108]\n",
            " [110 112 114 116 118 120 122 124 126 128]\n",
            " [130 132 134 136 138 140 142 144 146 148]] \n",
            "\n"
          ],
          "name": "stdout"
        }
      ]
    },
    {
      "cell_type": "markdown",
      "metadata": {
        "id": "UT3uNyfiN4lc"
      },
      "source": [
        "# Exercise 7\n"
      ]
    },
    {
      "cell_type": "markdown",
      "metadata": {
        "id": "AbKGMIPBdPUb"
      },
      "source": [
        "Use the np.full(shape, fill_value, dtype) function to create the following arrays. This function allows you to create an array with a user-defined shape and dtype, filled with a certain value.\n",
        "\n",
        "a)\n",
        "```\n",
        "array([5., 5., 5., 5., 5., 5., 5., 5., 5., 5.])\n",
        "```\n",
        "\n",
        "\n",
        "\n",
        "b)\n",
        "```\n",
        "array([[-5., -5., -5., -5.],\n",
        "       [-5., -5., -5., -5.],\n",
        "       [-5., -5., -5., -5.],\n",
        "       [-5., -5., -5., -5.]])\n",
        "```\n",
        "\n",
        "c)\n",
        "```\n",
        "array([[3, 3, 3],\n",
        "       [3, 3, 3],\n",
        "       [3, 3, 3]])\n",
        "```\n",
        "\n",
        "d)\n",
        "```\n",
        "array([[50, 50, 50, 50, 50, 50, 50, 50, 50, 50],\n",
        "       [50, 50, 50, 50, 50, 50, 50, 50, 50, 50],\n",
        "       [50, 50, 50, 50, 50, 50, 50, 50, 50, 50],\n",
        "       [50, 50, 50, 50, 50, 50, 50, 50, 50, 50],\n",
        "       [50, 50, 50, 50, 50, 50, 50, 50, 50, 50],\n",
        "       [50, 50, 50, 50, 50, 50, 50, 50, 50, 50],\n",
        "       [50, 50, 50, 50, 50, 50, 50, 50, 50, 50],\n",
        "       [50, 50, 50, 50, 50, 50, 50, 50, 50, 50],\n",
        "       [50, 50, 50, 50, 50, 50, 50, 50, 50, 50],\n",
        "       [50, 50, 50, 50, 50, 50, 50, 50, 50, 50]])\n",
        "```\n",
        "\n",
        "Tip: Another possibility would be to obtain the arrays with a different operation, by mutiplying a matrix filled with the number 1 by a certain value."
      ]
    },
    {
      "cell_type": "code",
      "metadata": {
        "colab": {
          "base_uri": "https://localhost:8080/"
        },
        "id": "rkKBrh_MOJCj",
        "outputId": "f222a8a0-9c15-4e8b-b884-88548cc0dfc4"
      },
      "source": [
        "import numpy as np\n",
        "\n",
        "# a)\n",
        "array1 = np.full((1,10),5,float)\n",
        "print(array1,\"\\n\")\n",
        "\n",
        "# b)\n",
        "array2 = np.full((4,4),-5,float)\n",
        "print(array2,\"\\n\")\n",
        "\n",
        "# c)\n",
        "array3 = np.full((3,3),3)\n",
        "print(array3,\"\\n\")\n",
        "\n",
        "# d)\n",
        "array4 = np.full((10,10),50)\n",
        "print(array4,\"\\n\")"
      ],
      "execution_count": null,
      "outputs": [
        {
          "output_type": "stream",
          "text": [
            "[[5. 5. 5. 5. 5. 5. 5. 5. 5. 5.]] \n",
            "\n",
            "[[-5. -5. -5. -5.]\n",
            " [-5. -5. -5. -5.]\n",
            " [-5. -5. -5. -5.]\n",
            " [-5. -5. -5. -5.]] \n",
            "\n",
            "[[3 3 3]\n",
            " [3 3 3]\n",
            " [3 3 3]] \n",
            "\n",
            "[[50 50 50 50 50 50 50 50 50 50]\n",
            " [50 50 50 50 50 50 50 50 50 50]\n",
            " [50 50 50 50 50 50 50 50 50 50]\n",
            " [50 50 50 50 50 50 50 50 50 50]\n",
            " [50 50 50 50 50 50 50 50 50 50]\n",
            " [50 50 50 50 50 50 50 50 50 50]\n",
            " [50 50 50 50 50 50 50 50 50 50]\n",
            " [50 50 50 50 50 50 50 50 50 50]\n",
            " [50 50 50 50 50 50 50 50 50 50]\n",
            " [50 50 50 50 50 50 50 50 50 50]] \n",
            "\n"
          ],
          "name": "stdout"
        }
      ]
    },
    {
      "cell_type": "markdown",
      "metadata": {
        "id": "-zFnoYuQRcaU"
      },
      "source": [
        "# Exercise 8\n",
        "\n",
        "\n"
      ]
    },
    {
      "cell_type": "markdown",
      "metadata": {
        "id": "55hzEIPydZST"
      },
      "source": [
        "Define the K array and check for missing data. Use the np.isnan() function.\n",
        "\n",
        "```\n",
        "array([[ nan,   1.,  10.,   0.],\n",
        "       [ nan,  nan,  nan,  nan],\n",
        "       [100.,  50.,  nan, -25.],\n",
        "       [ 30.,  nan,  nan, 130.]])\n",
        "```\n"
      ]
    },
    {
      "cell_type": "code",
      "metadata": {
        "colab": {
          "base_uri": "https://localhost:8080/"
        },
        "id": "ptjEMo1WUDCJ",
        "outputId": "bb889c61-1d3d-410c-ef6a-cb6045b5259e"
      },
      "source": [
        "import numpy as np\n",
        "\n",
        "K = np.array(([np.nan, 1, 10, 0],\n",
        "             [np.nan, np.nan, np.nan, np.nan],\n",
        "             [100, 50,  np.nan, -25],\n",
        "             [30, np.nan, np.nan, 130]))\n",
        "\n",
        "print(np.isnan(K),\"\\n\")\n",
        "print(f\"Hay {np.isnan(K).sum()} NaN en array\")"
      ],
      "execution_count": null,
      "outputs": [
        {
          "output_type": "stream",
          "text": [
            "[[ True False False False]\n",
            " [ True  True  True  True]\n",
            " [False False  True False]\n",
            " [False  True  True False]] \n",
            "\n",
            "Hay 8 NaN en array\n"
          ],
          "name": "stdout"
        }
      ]
    },
    {
      "cell_type": "markdown",
      "metadata": {
        "id": "r6UrMjkxbsbu"
      },
      "source": [
        "#Exercise 9\n"
      ]
    },
    {
      "cell_type": "markdown",
      "metadata": {
        "id": "vVP6_J0ideBO"
      },
      "source": [
        "The np.linspace () function returns an array of evenly spaced numbers within a defined range. Create an array with numbers within the range [1,21] in 5 parts.\n",
        "\n",
        "Expected return:\n",
        "\n",
        "`array([ 1.,  6., 11., 16., 21.])`"
      ]
    },
    {
      "cell_type": "code",
      "metadata": {
        "colab": {
          "base_uri": "https://localhost:8080/"
        },
        "id": "ROVD8n11df-E",
        "outputId": "032c4927-7b71-4d98-990b-7a6386db5b47"
      },
      "source": [
        "import numpy as np\n",
        "\n",
        "array = np.linspace(1,21,5)\n",
        "print(array)"
      ],
      "execution_count": null,
      "outputs": [
        {
          "output_type": "stream",
          "text": [
            "[ 1.  6. 11. 16. 21.]\n"
          ],
          "name": "stdout"
        }
      ]
    },
    {
      "cell_type": "markdown",
      "metadata": {
        "id": "VaKpRfopeMsW"
      },
      "source": [
        "#Exercise 10\n"
      ]
    },
    {
      "cell_type": "markdown",
      "metadata": {
        "id": "EUs3sjGEeSQZ"
      },
      "source": [
        "The np.logspace () function returns evenly spaced numbers on a logarithmic scale. Create an array with numbers within the range [1,51] in 10 parts with the np.logspace() function.\n",
        "\n",
        "Expected return:\n",
        "\n",
        "```\n",
        "array([[1.00000000e+01],\n",
        "       [3.59381366e+06],\n",
        "       [1.29154967e+12],\n",
        "       [4.64158883e+17],\n",
        "       [1.66810054e+23],\n",
        "       [5.99484250e+28],\n",
        "       [2.15443469e+34],\n",
        "       [7.74263683e+39],\n",
        "       [2.78255940e+45],\n",
        "       [1.00000000e+51]])\n",
        "```\n",
        "\n",
        "\n"
      ]
    },
    {
      "cell_type": "code",
      "metadata": {
        "colab": {
          "base_uri": "https://localhost:8080/"
        },
        "id": "d4iLk4UkeYYR",
        "outputId": "8e7a90b9-002c-4905-ba20-bbee38024635"
      },
      "source": [
        "import numpy as np\n",
        "\n",
        "array = np.logspace(1,51,10).reshape(-1,1)\n",
        "print(array)"
      ],
      "execution_count": null,
      "outputs": [
        {
          "output_type": "stream",
          "text": [
            "[[1.00000000e+01]\n",
            " [3.59381366e+06]\n",
            " [1.29154967e+12]\n",
            " [4.64158883e+17]\n",
            " [1.66810054e+23]\n",
            " [5.99484250e+28]\n",
            " [2.15443469e+34]\n",
            " [7.74263683e+39]\n",
            " [2.78255940e+45]\n",
            " [1.00000000e+51]]\n"
          ],
          "name": "stdout"
        }
      ]
    },
    {
      "cell_type": "markdown",
      "metadata": {
        "id": "hcaekrlLfR43"
      },
      "source": [
        "#Exercise 11\n"
      ]
    },
    {
      "cell_type": "markdown",
      "metadata": {
        "id": "EUhmRA-ofUpH"
      },
      "source": [
        "Use the np.diag() function to build the following array:\n",
        "\n",
        "```\n",
        "array([[ 5,  0,  0,  0,  0,  0],\n",
        "       [ 0, 10,  0,  0,  0,  0],\n",
        "       [ 0,  0, 15,  0,  0,  0],\n",
        "       [ 0,  0,  0, 20,  0,  0],\n",
        "       [ 0,  0,  0,  0, 25,  0],\n",
        "       [ 0,  0,  0,  0,  0, 30]])\n",
        "```\n",
        "\n",
        "\n"
      ]
    },
    {
      "cell_type": "code",
      "metadata": {
        "colab": {
          "base_uri": "https://localhost:8080/"
        },
        "id": "PAKMAVO-fZUH",
        "outputId": "77473c11-4039-4fd1-dd21-86324f4ed199"
      },
      "source": [
        "import numpy as np\n",
        "\n",
        "array = np.arange(5,31,5)\n",
        "arraydiag = np.diag(array)\n",
        "print(arraydiag)"
      ],
      "execution_count": null,
      "outputs": [
        {
          "output_type": "stream",
          "text": [
            "[[ 5  0  0  0  0  0]\n",
            " [ 0 10  0  0  0  0]\n",
            " [ 0  0 15  0  0  0]\n",
            " [ 0  0  0 20  0  0]\n",
            " [ 0  0  0  0 25  0]\n",
            " [ 0  0  0  0  0 30]]\n"
          ],
          "name": "stdout"
        }
      ]
    },
    {
      "cell_type": "markdown",
      "metadata": {
        "id": "uhWXe4ObhjOs"
      },
      "source": [
        "#Exercise 12\n"
      ]
    },
    {
      "cell_type": "markdown",
      "metadata": {
        "id": "-LJFidkfhmHc"
      },
      "source": [
        "Use the np.eye() function (or even np.identity()) to obtain the following array.\n",
        "\n",
        "```\n",
        "array([[1., 0., 0., 0., 0., 0., 0., 0., 0., 0.],\n",
        "       [0., 1., 0., 0., 0., 0., 0., 0., 0., 0.],\n",
        "       [0., 0., 1., 0., 0., 0., 0., 0., 0., 0.],\n",
        "       [0., 0., 0., 1., 0., 0., 0., 0., 0., 0.],\n",
        "       [0., 0., 0., 0., 1., 0., 0., 0., 0., 0.],\n",
        "       [0., 0., 0., 0., 0., 1., 0., 0., 0., 0.],\n",
        "       [0., 0., 0., 0., 0., 0., 1., 0., 0., 0.],\n",
        "       [0., 0., 0., 0., 0., 0., 0., 1., 0., 0.],\n",
        "       [0., 0., 0., 0., 0., 0., 0., 0., 1., 0.],\n",
        "       [0., 0., 0., 0., 0., 0., 0., 0., 0., 1.]])\n",
        "```\n",
        "\n",
        "Tip: this matrix is ​​defined as an identity matrix, in this case of order 10, and it assumes great relevance in several computational calculations, as we will see later."
      ]
    },
    {
      "cell_type": "code",
      "metadata": {
        "colab": {
          "base_uri": "https://localhost:8080/"
        },
        "id": "TRkBjuJuhsOj",
        "outputId": "f9c44163-c8ab-459b-f4ab-7dc509f5e40f"
      },
      "source": [
        "import numpy as np\n",
        "\n",
        "array = np.eye(10,10,1,float)\n",
        "print(array,\"\\n\")\n",
        "\n",
        "array = np.identity(10)\n",
        "print(array)"
      ],
      "execution_count": null,
      "outputs": [
        {
          "output_type": "stream",
          "text": [
            "[[0. 1. 0. 0. 0. 0. 0. 0. 0. 0.]\n",
            " [0. 0. 1. 0. 0. 0. 0. 0. 0. 0.]\n",
            " [0. 0. 0. 1. 0. 0. 0. 0. 0. 0.]\n",
            " [0. 0. 0. 0. 1. 0. 0. 0. 0. 0.]\n",
            " [0. 0. 0. 0. 0. 1. 0. 0. 0. 0.]\n",
            " [0. 0. 0. 0. 0. 0. 1. 0. 0. 0.]\n",
            " [0. 0. 0. 0. 0. 0. 0. 1. 0. 0.]\n",
            " [0. 0. 0. 0. 0. 0. 0. 0. 1. 0.]\n",
            " [0. 0. 0. 0. 0. 0. 0. 0. 0. 1.]\n",
            " [0. 0. 0. 0. 0. 0. 0. 0. 0. 0.]] \n",
            "\n",
            "[[1. 0. 0. 0. 0. 0. 0. 0. 0. 0.]\n",
            " [0. 1. 0. 0. 0. 0. 0. 0. 0. 0.]\n",
            " [0. 0. 1. 0. 0. 0. 0. 0. 0. 0.]\n",
            " [0. 0. 0. 1. 0. 0. 0. 0. 0. 0.]\n",
            " [0. 0. 0. 0. 1. 0. 0. 0. 0. 0.]\n",
            " [0. 0. 0. 0. 0. 1. 0. 0. 0. 0.]\n",
            " [0. 0. 0. 0. 0. 0. 1. 0. 0. 0.]\n",
            " [0. 0. 0. 0. 0. 0. 0. 1. 0. 0.]\n",
            " [0. 0. 0. 0. 0. 0. 0. 0. 1. 0.]\n",
            " [0. 0. 0. 0. 0. 0. 0. 0. 0. 1.]]\n"
          ],
          "name": "stdout"
        }
      ]
    },
    {
      "cell_type": "markdown",
      "metadata": {
        "id": "TZ4qE3MEi3Kf"
      },
      "source": [
        "#Exercise 14\n"
      ]
    },
    {
      "cell_type": "markdown",
      "metadata": {
        "id": "diC-Xb_ui8Yw"
      },
      "source": [
        "Obtain the sum of the elements of each array below. Use the np.sum () function. Implement a solution with \"loop for\", to do so, store the vectors in a list.\n",
        "\n",
        "```\n",
        "import numpy as np\n",
        "\n",
        "array1 = np.arange(1,11)\n",
        "array2 = np.linspace(1,50,10)\n",
        "array3 = np.array(range(51))\n",
        "array4 = np.logspace(1,10,5)\n",
        "array5 = np.diag(range(5,31,5))\n",
        "```\n",
        "\n",
        "Expected return:\n",
        "\n",
        "```\n",
        "Sum of the elements of array 1:  55\n",
        "Sum of the elements of array 2:  255.0\n",
        "Sum of the elements of array 3:  1275\n",
        "Sum of the elements of array 4:  10056552148.564463\n",
        "Sum of the elements of array 5:  105\n",
        "```"
      ]
    },
    {
      "cell_type": "code",
      "metadata": {
        "colab": {
          "base_uri": "https://localhost:8080/"
        },
        "id": "uCVh-cAQjGWL",
        "outputId": "8a5d1a17-1c37-49a5-dd74-fcedeb8fa27b"
      },
      "source": [
        "import numpy as np\n",
        " \n",
        "array1 = np.arange(1,11)\n",
        "array2 = np.linspace(1,50,10)\n",
        "array3 = np.array(range(51))\n",
        "array4 = np.logspace(1,10,5)\n",
        "array5 = np.diag(range(5,31,5))\n",
        "arraylist = [array1, array2, array3, array4, array5]\n",
        "\n",
        "for index, array in enumerate(arraylist,1):\n",
        "  print(f\"La suma de array{index} es: {array.sum()}\")"
      ],
      "execution_count": null,
      "outputs": [
        {
          "output_type": "stream",
          "text": [
            "La suma de array1 es: 55\n",
            "La suma de array2 es: 255.0\n",
            "La suma de array3 es: 1275\n",
            "La suma de array4 es: 10056552148.564463\n",
            "La suma de array5 es: 105\n"
          ],
          "name": "stdout"
        }
      ]
    },
    {
      "cell_type": "markdown",
      "metadata": {
        "id": "hNVoxdp-lz51"
      },
      "source": [
        "#Exercise 15\n"
      ]
    },
    {
      "cell_type": "markdown",
      "metadata": {
        "id": "x0eAD22Ml2KT"
      },
      "source": [
        "From the matrix defined below, obtain:\n",
        "\n",
        "a) total sum of the elements;\n",
        "\n",
        "b) sum of the lines;\n",
        "\n",
        "c) sum of columns.\n",
        "\n",
        "```\n",
        "import numpy as np\n",
        "matrix = np.array(np.random.randint(1,100,15)).reshape(5,3)\n",
        "```"
      ]
    },
    {
      "cell_type": "code",
      "metadata": {
        "colab": {
          "base_uri": "https://localhost:8080/"
        },
        "id": "9k1tAhM9l71Q",
        "outputId": "24adf4ba-c16e-422a-da48-d255c1273e27"
      },
      "source": [
        "import numpy as np\n",
        "\n",
        "matrix = np.array(np.random.randint(1,100,15)).reshape(5,3)\n",
        "print(matrix,\"\\n\")\n",
        "\n",
        "# a)\n",
        "print(matrix.sum(),\"\\n\")\n",
        "\n",
        "# b)\n",
        "print(matrix.sum(1),\"\\n\")\n",
        "\n",
        "# c)\n",
        "print(matrix.sum(0))"
      ],
      "execution_count": null,
      "outputs": [
        {
          "output_type": "stream",
          "text": [
            "[[ 2 17 46]\n",
            " [58 64 29]\n",
            " [ 3 54 36]\n",
            " [51 42 75]\n",
            " [74 36  7]] \n",
            "\n",
            "594 \n",
            "\n",
            "[ 65 151  93 168 117] \n",
            "\n",
            "[188 213 193]\n"
          ],
          "name": "stdout"
        }
      ]
    },
    {
      "cell_type": "markdown",
      "metadata": {
        "id": "VAhZvZnppTFo"
      },
      "source": [
        "#Exercise 16\n"
      ]
    },
    {
      "cell_type": "markdown",
      "metadata": {
        "id": "c4c_ntmnpYst"
      },
      "source": [
        "Obtain the maximum and minimum value of each array below. Implement a solution with a \"loop for\".\n",
        "\n",
        "```\n",
        "import numpy as np\n",
        "\n",
        "array1 = np.array([-1, 10, 3, 4, 7, 27])\n",
        "array2 = np.random.randint(-100,300,30)\n",
        "array3 = np.random.randn(10)\n",
        "array4 = np.array(range(50,10,-2))\n",
        "```\n",
        "\n",
        "Tip: To obtain the maximum and minimium value of an array, we can use array.max() and array.min() (or max(array) and min(array))."
      ]
    },
    {
      "cell_type": "code",
      "metadata": {
        "colab": {
          "base_uri": "https://localhost:8080/"
        },
        "id": "4knELnwqppR8",
        "outputId": "865e2330-1ba5-4cbb-ad0e-186bc089e8b0"
      },
      "source": [
        "import numpy as np\n",
        "\n",
        "array1 = np.array([-1, 10, 3, 4, 7, 27])\n",
        "array2 = np.random.randint(-100,300,30)\n",
        "array3 = np.random.randn(10)\n",
        "array4 = np.array(range(50,10,-2))\n",
        "arraylist = [array1, array2, array3, array4]\n",
        "\n",
        "for index,array in enumerate(arraylist,1):\n",
        "    print(f\"Array{index}:\\n Máx.: {array.max()}\\n Mín.: {array.min()}\\n\")"
      ],
      "execution_count": null,
      "outputs": [
        {
          "output_type": "stream",
          "text": [
            "Array1:\n",
            " Máx.: 27\n",
            " Mín.: -1\n",
            "\n",
            "Array2:\n",
            " Máx.: 293\n",
            " Mín.: -76\n",
            "\n",
            "Array3:\n",
            " Máx.: 1.9437912570653972\n",
            " Mín.: -0.9659667741316402\n",
            "\n",
            "Array4:\n",
            " Máx.: 50\n",
            " Mín.: 12\n",
            "\n"
          ],
          "name": "stdout"
        }
      ]
    },
    {
      "cell_type": "markdown",
      "metadata": {
        "id": "U8-9RpVJsmPb"
      },
      "source": [
        "#Exercise 17\n"
      ]
    },
    {
      "cell_type": "markdown",
      "metadata": {
        "id": "hVznsHKostay"
      },
      "source": [
        "Create a function that receives a matrix as input and calculate:\n",
        "\n",
        "a) Maximum value of the matrix;\n",
        "b) Maximum value per column;\n",
        "c) Maximum value per line;\n",
        "d) Minimum value of the matrix;\n",
        "e) Minimum value per column;\n",
        "f) Minimum value per line.\n",
        "\n",
        "Example of return for the matrix defined below:\n",
        "\n",
        "Input:\n",
        "\n",
        "```\n",
        "matrix = np.random.randint(-1000,1000,50).reshape(10,5)\n",
        "info_array(array)\n",
        "```\n",
        "Output:\n",
        "```\n",
        "Maximum value of the matrix:  987\n",
        "Maximum value per column:  [959 987 597 748 719]\n",
        "Maximum value per line:  [ 987  312  982  204  719  689  101  793 -460  959]\n",
        "Minimum value of the matrix:  -969\n",
        "Minimum value per column:  [-878 -966 -969 -884 -881]\n",
        "Minimum value per line:  [  30 -878 -335 -863  -40 -289 -660 -239 -969 -966]\n",
        "```"
      ]
    },
    {
      "cell_type": "code",
      "metadata": {
        "id": "LL6TAMJms9Pt",
        "colab": {
          "base_uri": "https://localhost:8080/"
        },
        "outputId": "0e0eda4c-5407-4984-a49a-91883ff5f928"
      },
      "source": [
        "import numpy as np\n",
        " \n",
        "def info_array(matrix):\n",
        "    print(\"Maximum value of the matrix: \",matrix.max())\n",
        "    print(\"Maximum value per column: \",matrix.max(0))\n",
        "    print(\"Maximum value per line: \",matrix.max(1))\n",
        "    print(\"Minimum value of the matrix: \",matrix.min())\n",
        "    print(\"Minimum value per column: \",matrix.min(0))\n",
        "    print(\"Minimum value per line: \",matrix.min(1))\n",
        "\n",
        "matrix = np.random.randint(-1000,1000,50).reshape(10,5)\n",
        "info_array(matrix)"
      ],
      "execution_count": 11,
      "outputs": [
        {
          "output_type": "stream",
          "text": [
            "Maximum value of the matrix:  921\n",
            "Maximum value per column:  [316 833 921 916 589]\n",
            "Maximum value per line:  [547 110 441 921 453 849 589 414 381 441]\n",
            "Minimum value of the matrix:  -981\n",
            "Minimum value per column:  [-942 -935 -856 -981 -884]\n",
            "Minimum value per line:  [-942 -693 -803 -884 -667 -981 -935 -856 -222 -669]\n"
          ],
          "name": "stdout"
        }
      ]
    },
    {
      "cell_type": "markdown",
      "metadata": {
        "id": "JOGJfb1xZW3A"
      },
      "source": [
        "#Exercise 18\n"
      ]
    },
    {
      "cell_type": "markdown",
      "metadata": {
        "id": "F9yk_8dEZbaA"
      },
      "source": [
        "Based on the array defined below, obtain your average, median, variance, and standard deviation.\n",
        "\n",
        "```\n",
        "import numpy as np\n",
        "\n",
        "arr = np.random.normal(40,0.5,size = (300))\n",
        "```\n",
        "\n",
        "Tip:\n",
        "\n",
        "Average: np.mean();\n",
        "\n",
        "Median: np.median();\n",
        "\n",
        "Standard deviation: np.std();\n",
        "\n",
        "Variance: np.var()."
      ]
    },
    {
      "cell_type": "code",
      "metadata": {
        "colab": {
          "base_uri": "https://localhost:8080/"
        },
        "id": "megx2eZoZg3T",
        "outputId": "57ed5baf-d3ed-43ff-efcd-30869df6de29"
      },
      "source": [
        "import numpy as np\n",
        " \n",
        "arr = np.random.normal(40,0.5,size = (300))\n",
        "\n",
        "print(\"Average: \",np.mean(arr))\n",
        "print(\"Median: \",np.median(arr))\n",
        "print(\"Standard deviation: \", np.std(arr))\n",
        "print(\"Variance: \",np.var(arr))"
      ],
      "execution_count": 14,
      "outputs": [
        {
          "output_type": "stream",
          "text": [
            "Average:  39.983122186737894\n",
            "Median:  39.94799094401697\n",
            "Standard deviation:  0.5015973390300665\n",
            "Variance:  0.2515998905220435\n"
          ],
          "name": "stdout"
        }
      ]
    },
    {
      "cell_type": "markdown",
      "metadata": {
        "id": "UqztEmTbbpis"
      },
      "source": [
        "#Exercise 19\n"
      ]
    },
    {
      "cell_type": "markdown",
      "metadata": {
        "id": "FOmfZJlibwaP"
      },
      "source": [
        "Based on the arrays defined below, obtain the covariance matrix and the correlation matrix.\n",
        "\n",
        "```\n",
        "import numpy as np\n",
        "\n",
        "x = np.random.rand(100)\n",
        "y = np.random.uniform(size=100)\n",
        "```\n",
        "\n",
        "Tip: use np.corrcoef() and np.cov()."
      ]
    },
    {
      "cell_type": "code",
      "metadata": {
        "colab": {
          "base_uri": "https://localhost:8080/"
        },
        "id": "elhu5y2Yb7DT",
        "outputId": "fc032e66-c46d-4eec-b786-ac9d64b3844d"
      },
      "source": [
        "import numpy as np\n",
        " \n",
        "x = np.random.rand(100)\n",
        "y = np.random.uniform(size=100)\n",
        "\n",
        "print(\"Convariance matrix:\\n\", np.corrcoef(x,y))\n",
        "print(f\"Correlation matrix:\\n {np.cov(x,y)}\")"
      ],
      "execution_count": 17,
      "outputs": [
        {
          "output_type": "stream",
          "text": [
            "Convariance matrix:\n",
            " [[1.         0.05358501]\n",
            " [0.05358501 1.        ]]\n",
            "Correlation matrix:\n",
            " [[0.0876403  0.00421621]\n",
            " [0.00421621 0.0706406 ]]\n"
          ],
          "name": "stdout"
        }
      ]
    },
    {
      "cell_type": "markdown",
      "metadata": {
        "id": "u5Xh1TeOf8Ll"
      },
      "source": [
        "#Exercise 20\n"
      ]
    },
    {
      "cell_type": "markdown",
      "metadata": {
        "id": "riFOHuGQgAaU"
      },
      "source": [
        "Get the index of the maximum value of array A.\n",
        "\n",
        "```\n",
        "A = np.array([[11, 15, 33, 105],\n",
        "              [1, 140, 45, 90],\n",
        "              [67, 230, 78, 99]])\n",
        "```\n",
        "\n",
        "Tip: use np.argmax() or array.argmax()."
      ]
    },
    {
      "cell_type": "code",
      "metadata": {
        "colab": {
          "base_uri": "https://localhost:8080/"
        },
        "id": "sL_xDxj4gM7o",
        "outputId": "7c0ba3d4-972f-41da-e2ea-e9a3f2fe5f57"
      },
      "source": [
        "import numpy as np\n",
        "\n",
        "array = np.array([[11, 15, 33, 105],\n",
        "                  [1, 140, 45, 90],\n",
        "                  [67, 230, 78, 99]])\n",
        "\n",
        "print(np.argmax(array))\n",
        "print(array.argmax())\n",
        "print(array.max())"
      ],
      "execution_count": 21,
      "outputs": [
        {
          "output_type": "stream",
          "text": [
            "9\n",
            "9\n",
            "230\n"
          ],
          "name": "stdout"
        }
      ]
    },
    {
      "cell_type": "markdown",
      "metadata": {
        "id": "kgRPvTP0hiEj"
      },
      "source": [
        "#Exercise 21\n"
      ]
    },
    {
      "cell_type": "markdown",
      "metadata": {
        "id": "5xzgu1cwhne1"
      },
      "source": [
        "Get the index of the minimum value of array B.\n",
        "\n",
        "```\n",
        "B = np.array([[73, 22, 20, 62,  3],\n",
        "              [68, 84, 27, 59, 93],\n",
        "              [48, 52,  4, 55, 50],\n",
        "              [42, 23, 63, 67,  4],\n",
        "              [44, 30, 41, 31, 29]])\n",
        "```\n",
        "\n",
        "Tip: use np.argmin() or array.argmin()."
      ]
    },
    {
      "cell_type": "code",
      "metadata": {
        "colab": {
          "base_uri": "https://localhost:8080/"
        },
        "id": "Cqylx_thiGVV",
        "outputId": "fe76302f-63fd-4cad-e091-15fcaf1b0fe1"
      },
      "source": [
        "import numpy as np\n",
        "\n",
        "array = np.array([[73, 22, 20, 62,  3],\n",
        "                  [68, 84, 27, 59, 93],\n",
        "                  [48, 52,  4, 55, 50],\n",
        "                  [42, 23, 63, 67,  4],\n",
        "                  [44, 30, 41, 31, 29]])\n",
        "\n",
        "print(array.min())\n",
        "print(np.argmin(array))\n",
        "print(array.argmin())"
      ],
      "execution_count": 23,
      "outputs": [
        {
          "output_type": "stream",
          "text": [
            "3\n",
            "4\n",
            "4\n"
          ],
          "name": "stdout"
        }
      ]
    },
    {
      "cell_type": "markdown",
      "metadata": {
        "id": "gGzjcfePjXtH"
      },
      "source": [
        "#Exercise 22\n"
      ]
    },
    {
      "cell_type": "markdown",
      "metadata": {
        "id": "pxCSFfHyjdp4"
      },
      "source": [
        "Write a function that receives a NumPy array and shows a set of descriptive statistics for this object on the screen.\n",
        "\n",
        "Expected result:\n",
        "\n",
        "Input\n",
        "```\n",
        "array = np.array([-57, 101, 270, 130, 144])\n",
        "info_array(array)\n",
        "```\n",
        "\n",
        "Output:\n",
        "```\n",
        "Max: 270\n",
        "Min: -57\n",
        "Mean: 117.6\n",
        "Median: 130.0\n",
        "Variance: 10967.439999999999\n",
        "Standard deviation: 104.72554607162475\n",
        "```"
      ]
    },
    {
      "cell_type": "code",
      "metadata": {
        "colab": {
          "base_uri": "https://localhost:8080/"
        },
        "id": "cRXPb3-5juYw",
        "outputId": "4bc418dc-fb5b-4055-c811-b51a6d218950"
      },
      "source": [
        "import numpy as np\n",
        "\n",
        "def info_array(array):\n",
        "    print(f\"Max: {array.max()}\")\n",
        "    print(f\"Min: {array.min()}\")\n",
        "    print(f\"Mean: {np.mean(array)}\")\n",
        "    print(f\"Median: {np.median(array)}\")\n",
        "    print(f\"Variance: {array.var()}\")\n",
        "    print(f\"Standard deviation: {array.std()}\")\n",
        "\n",
        "array = np.array([-57, 101, 270, 130, 144])\n",
        "info_array(array)"
      ],
      "execution_count": 26,
      "outputs": [
        {
          "output_type": "stream",
          "text": [
            "Max: 270\n",
            "Min: -57\n",
            "Mean: 117.6\n",
            "Median: 130.0\n",
            "Variance: 10967.439999999999\n",
            "Standard deviation: 104.72554607162475\n"
          ],
          "name": "stdout"
        }
      ]
    },
    {
      "cell_type": "markdown",
      "metadata": {
        "id": "54lj2GITqm9Z"
      },
      "source": [
        "#Exercise 23\n"
      ]
    },
    {
      "cell_type": "markdown",
      "metadata": {
        "id": "auh9020zqpQc"
      },
      "source": [
        "Use the np.unique() function to obtain an array with the unique elements of the array below. To do so, store the new array in a variable.\n",
        "\n",
        "```\n",
        "A = np.array([[1, 3, 3, 4, 5],\n",
        "              [4, 7, 11, 3, 5],\n",
        "              [1, 11, 4, 4, 11]])\n",
        "```\n",
        "\n",
        "\n",
        "\n"
      ]
    },
    {
      "cell_type": "code",
      "metadata": {
        "colab": {
          "base_uri": "https://localhost:8080/"
        },
        "id": "jzGmUHrKq3hg",
        "outputId": "c027edc2-f42d-4936-affe-955033d8cd49"
      },
      "source": [
        "import numpy as np\n",
        "\n",
        "array = np.array([[1, 3, 3, 4, 5],\n",
        "                  [4, 7, 11, 3, 5],\n",
        "                  [1, 11, 4, 4, 11]])\n",
        "\n",
        "uni_array = np.unique(array)\n",
        "print(uni_array)"
      ],
      "execution_count": 28,
      "outputs": [
        {
          "output_type": "stream",
          "text": [
            "[ 1  3  4  5  7 11]\n"
          ],
          "name": "stdout"
        }
      ]
    },
    {
      "cell_type": "markdown",
      "metadata": {
        "id": "KosR0Tt8rwqM"
      },
      "source": [
        "#Exercise 24\n"
      ]
    },
    {
      "cell_type": "markdown",
      "metadata": {
        "id": "gL2fMDUmr1qn"
      },
      "source": [
        "Considering the arrays below:\n",
        "\n",
        "```\n",
        "import numpy as np\n",
        "\n",
        "array1 = np.array([10, 20, 30, 40])\n",
        "array2 = np.array([100, 30, 5, 1, 40, 100, 20, 130, 155,170])\n",
        "```\n",
        "\n",
        "Obtain:\n",
        "\n",
        "a) The first, the third, and the last element of each array;\n",
        "\n",
        "b) Invert the array;\n",
        "\n",
        "c) Take the number 20 in both of the arrays and store the sum in a variable."
      ]
    },
    {
      "cell_type": "code",
      "metadata": {
        "colab": {
          "base_uri": "https://localhost:8080/"
        },
        "id": "ID01tu2Rr8C4",
        "outputId": "2687c849-b255-43cb-9615-e0bb7283bda1"
      },
      "source": [
        "import numpy as np\n",
        "\n",
        "array1 = np.array([10, 20, 30, 40])\n",
        "array2 = np.array([100, 30, 5, 1, 40, 100, 20, 130, 155,170])\n",
        "arraylist = [array1, array2]\n",
        "\n",
        "# a)\n",
        "print(\"a)\")\n",
        "for index, array in enumerate(arraylist,1):\n",
        "    print(f\"First element of array{index} is: {array[0]}\")\n",
        "    print(f\"Third element of array{index} is: {array[2]}\")\n",
        "    print(f\"Last element of array{index} is: {array[-1]}\\n\")\n",
        "\n",
        "# b)\n",
        "print(\"b)\")\n",
        "print(array1[::-1])\n",
        "print(array2[::-1],\"\\n\")\n",
        "\n",
        "# c)\n",
        "print(\"c)\")\n",
        "sum_ = 0\n",
        "for index, array in enumerate(arraylist):\n",
        "    for i in arraylist[index]:\n",
        "        if i == 20:\n",
        "            sum_ = sum_ + array[index]\n",
        "print(sum_)"
      ],
      "execution_count": 62,
      "outputs": [
        {
          "output_type": "stream",
          "text": [
            "a)\n",
            "First element of array1 is: 10\n",
            "Third element of array1 is: 30\n",
            "Last element of array1 is: 40\n",
            "\n",
            "First element of array2 is: 100\n",
            "Third element of array2 is: 5\n",
            "Last element of array2 is: 170\n",
            "\n",
            "b)\n",
            "[40 30 20 10]\n",
            "[170 155 130  20 100  40   1   5  30 100] \n",
            "\n",
            "c)\n",
            "40\n"
          ],
          "name": "stdout"
        }
      ]
    },
    {
      "cell_type": "markdown",
      "metadata": {
        "id": "eRfAMofKzWg0"
      },
      "source": [
        "#Exercise 25\n"
      ]
    },
    {
      "cell_type": "markdown",
      "metadata": {
        "id": "SnxJfdJtzaoW"
      },
      "source": [
        "Access the numbers 9 and 90 of the array below.\n",
        "\n",
        "```\n",
        "import numpy as np\n",
        "\n",
        "ar = np.array([[-1, 33, 44, 9, 1],[11, 1, 0, 90, 44]])\n",
        "```\n",
        "\n",
        "\n"
      ]
    },
    {
      "cell_type": "code",
      "metadata": {
        "colab": {
          "base_uri": "https://localhost:8080/"
        },
        "id": "_DHcibElziGp",
        "outputId": "a3411941-b329-4ee1-86f7-36f3f4d49926"
      },
      "source": [
        "import numpy as np\n",
        "\n",
        "ar = np.array([[-1, 33, 44, 9, 1],[11, 1, 0, 90, 44]])\n",
        "\n",
        "print(ar[0][-2])\n",
        "print(ar[1][-2])"
      ],
      "execution_count": 63,
      "outputs": [
        {
          "output_type": "stream",
          "text": [
            "9\n",
            "90\n"
          ],
          "name": "stdout"
        }
      ]
    },
    {
      "cell_type": "markdown",
      "metadata": {
        "id": "Hf9DOcQf0DgI"
      },
      "source": [
        "#Exercise 26\n"
      ]
    },
    {
      "cell_type": "markdown",
      "metadata": {
        "id": "docolWGa0GSn"
      },
      "source": [
        "3-D array indexing\n",
        "\n",
        "Access the number 5, 9, 3 and 21 from the array below\n",
        "\n",
        "\n",
        "```\n",
        "import numpy as np\n",
        "\n",
        "ar = np.array([[[1, 1, 5, 1],\n",
        "                [1, 1, 1, 9]],\n",
        "                [[1, 3, 1, 1],\n",
        "                [1, 1, 21, 1]]])\n",
        "```\n",
        "\n",
        "\n"
      ]
    },
    {
      "cell_type": "code",
      "metadata": {
        "colab": {
          "base_uri": "https://localhost:8080/"
        },
        "id": "I6KxmTQI0ecK",
        "outputId": "ef361bef-7fb4-4e71-ac2b-b4b5fed2f955"
      },
      "source": [
        "import numpy as np\n",
        "\n",
        "ar = np.array([[[1, 1, 5, 1],\n",
        "                [1, 1, 1, 9]],\n",
        "                [[1, 3, 1, 1],\n",
        "                [1, 1, 21, 1]]])\n",
        "\n",
        "print(ar[0][0][2])\n",
        "print(ar[0][1][3])\n",
        "print(ar[1][0][1])\n",
        "print(ar[1][1][2])"
      ],
      "execution_count": 72,
      "outputs": [
        {
          "output_type": "stream",
          "text": [
            "5\n",
            "9\n",
            "3\n",
            "21\n"
          ],
          "name": "stdout"
        }
      ]
    },
    {
      "cell_type": "markdown",
      "metadata": {
        "id": "6ftemR-w3-HQ"
      },
      "source": [
        "#Exercise 27\n"
      ]
    },
    {
      "cell_type": "markdown",
      "metadata": {
        "id": "ur36kIus4BJD"
      },
      "source": [
        "1-D Slicing\n",
        "\n",
        "Based on the array below, obtain the slice from index 2 to index 6.\n",
        "\n",
        "```\n",
        "import numpy as np\n",
        "\n",
        "ar = np.array([1, 2, 3, 4, 5, 6, 7, 8, 9, 10])\n",
        "```\n",
        "\n",
        "Tip: In Python, slicing means that we can select elements between specified indexes. Syntax: [start:end:pass].\n",
        "\n",
        "If we do not specify the start, the default value will be 0. If we do not define the step, the value 1 will be considered."
      ]
    },
    {
      "cell_type": "code",
      "metadata": {
        "colab": {
          "base_uri": "https://localhost:8080/"
        },
        "id": "S1WixcNu4N6U",
        "outputId": "2b7faa5f-d632-4bf1-b16a-5734d41556e2"
      },
      "source": [
        "import numpy as np\n",
        " \n",
        "ar = np.array([1, 2, 3, 4, 5, 6, 7, 8, 9, 10])\n",
        "\n",
        "print(ar[2:7])"
      ],
      "execution_count": 74,
      "outputs": [
        {
          "output_type": "stream",
          "text": [
            "[3 4 5 6 7]\n"
          ],
          "name": "stdout"
        }
      ]
    }
  ]
}